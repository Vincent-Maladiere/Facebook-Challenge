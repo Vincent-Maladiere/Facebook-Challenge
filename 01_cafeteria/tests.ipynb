{
 "cells": [
  {
   "cell_type": "code",
   "execution_count": 4,
   "id": "83485e56",
   "metadata": {},
   "outputs": [],
   "source": [
    "from cafeteria_array import *\n",
    "\n",
    "%load_ext autoreload\n",
    "%autoreload 2"
   ]
  },
  {
   "cell_type": "code",
   "execution_count": 92,
   "id": "a1bf7b29",
   "metadata": {},
   "outputs": [],
   "source": [
    "def fast_getMaxAdditionalDinersCount(N, K, M, S):\n",
    "    \n",
    "    diner_counts = 0\n",
    "    \n",
    "    S.sort()\n",
    "\n",
    "    print(f\"S: {S}\")\n",
    "    \n",
    "    diff_0 = S[0] - 1\n",
    "    print(f\"diff_0: {diff_0}\")\n",
    "    \n",
    "    res_0 = diff_0 // (K+1)\n",
    "    print(f\"res_0: {res_0}\")\n",
    "    \n",
    "    diner_counts += res_0\n",
    "    print(f\"diner_counts: {diner_counts}\")\n",
    "    \n",
    "    diff_N = N - S[-1]\n",
    "    print(f\"diff_N: {diff_N}\")\n",
    "    \n",
    "    res_N = diff_N // (K+1)\n",
    "    print(f\"res_N: {res_N}\")\n",
    "    \n",
    "    diner_counts += res_N\n",
    "    print(f\"diner_counts: {diner_counts}\")\n",
    "    \n",
    "    print(\" >>>>> \")\n",
    "    \n",
    "    for idx in range(1, M):\n",
    "        \n",
    "        print(f\"idx: {idx}\")\n",
    "        \n",
    "        l = min(S[idx-1] + K, N)\n",
    "        r = max(S[idx] - K, 1)\n",
    "        print(f\"l: {l}, r: {r}\")\n",
    "        \n",
    "        diff = r - l - 1\n",
    "        print(f\"diff: {diff}\")\n",
    "        if diff <= 0:\n",
    "            res = 0\n",
    "        elif diff <= K:\n",
    "            res = 1\n",
    "        else:\n",
    "            res = np.ceil(diff / (K+1))\n",
    "        print(f\"res: {res}\")\n",
    "        \n",
    "        diner_counts += res\n",
    "        print(f\"diner_counts: {diner_counts}\")\n",
    "        \n",
    "        print(\"-------\")\n",
    "        \n",
    "    return int(diner_counts)"
   ]
  },
  {
   "cell_type": "code",
   "execution_count": 93,
   "id": "ed11fd07",
   "metadata": {},
   "outputs": [
    {
     "name": "stdout",
     "output_type": "stream",
     "text": [
      "3\n",
      "===\n",
      "S: [2, 6]\n",
      "diff_0: 1\n",
      "res_0: 0\n",
      "diner_counts: 0\n",
      "diff_N: 4\n",
      "res_N: 2\n",
      "diner_counts: 2\n",
      " >>>>> \n",
      "idx: 1\n",
      "l: 3, r: 5\n",
      "diff: 1\n",
      "res: 1\n",
      "diner_counts: 3\n",
      "-------\n",
      "3\n",
      "CPU times: user 1.02 ms, sys: 717 µs, total: 1.74 ms\n",
      "Wall time: 1.22 ms\n"
     ]
    }
   ],
   "source": [
    "%%time\n",
    "\n",
    "N, K, M, S = 10, 1, 2, [2, 6]\n",
    "print(getMaxAdditionalDinersCount(N, K, M, S))\n",
    "print(\"===\")\n",
    "print(fast_getMaxAdditionalDinersCount(N, K, M, S))"
   ]
  },
  {
   "cell_type": "code",
   "execution_count": 94,
   "id": "3c99ded7",
   "metadata": {},
   "outputs": [
    {
     "name": "stdout",
     "output_type": "stream",
     "text": [
      "1\n",
      "===\n",
      "S: [6, 11, 14]\n",
      "diff_0: 5\n",
      "res_0: 1\n",
      "diner_counts: 1\n",
      "diff_N: 1\n",
      "res_N: 0\n",
      "diner_counts: 1\n",
      " >>>>> \n",
      "idx: 1\n",
      "l: 8, r: 9\n",
      "diff: 0\n",
      "res: 0\n",
      "diner_counts: 1\n",
      "-------\n",
      "idx: 2\n",
      "l: 13, r: 12\n",
      "diff: -2\n",
      "res: 0\n",
      "diner_counts: 1\n",
      "-------\n",
      "1\n",
      "CPU times: user 1.52 ms, sys: 1.42 ms, total: 2.93 ms\n",
      "Wall time: 2.04 ms\n"
     ]
    }
   ],
   "source": [
    "%%time\n",
    "\n",
    "N = 15\n",
    "K = 2\n",
    "M = 3\n",
    "S = [11, 6, 14]\n",
    "print(getMaxAdditionalDinersCount(N, K, M, S))\n",
    "print(\"===\")\n",
    "print(fast_getMaxAdditionalDinersCount(N, K, M, S))"
   ]
  },
  {
   "cell_type": "code",
   "execution_count": 95,
   "id": "3ba614f7",
   "metadata": {},
   "outputs": [
    {
     "name": "stdout",
     "output_type": "stream",
     "text": [
      "7\n",
      "===\n",
      "S: [1, 20, 25, 40]\n",
      "diff_0: 0\n",
      "res_0: 0\n",
      "diner_counts: 0\n",
      "diff_N: 10\n",
      "res_N: 2\n",
      "diner_counts: 2\n",
      " >>>>> \n",
      "idx: 1\n",
      "l: 4, r: 17\n",
      "diff: 12\n",
      "res: 3.0\n",
      "diner_counts: 5.0\n",
      "-------\n",
      "idx: 2\n",
      "l: 23, r: 22\n",
      "diff: -2\n",
      "res: 0\n",
      "diner_counts: 5.0\n",
      "-------\n",
      "idx: 3\n",
      "l: 28, r: 37\n",
      "diff: 8\n",
      "res: 2.0\n",
      "diner_counts: 7.0\n",
      "-------\n",
      "7\n",
      "CPU times: user 1.15 ms, sys: 1.02 ms, total: 2.16 ms\n",
      "Wall time: 1.36 ms\n"
     ]
    }
   ],
   "source": [
    "%%time\n",
    "\n",
    "N = 50\n",
    "K = 3\n",
    "M = 4\n",
    "S = [1, 20, 25, 40]\n",
    "print(getMaxAdditionalDinersCount(N, K, M, S))\n",
    "print(\"===\")\n",
    "print(fast_getMaxAdditionalDinersCount(N, K, M, S))"
   ]
  },
  {
   "cell_type": "code",
   "execution_count": 105,
   "id": "e5ff4faa",
   "metadata": {},
   "outputs": [
    {
     "name": "stdout",
     "output_type": "stream",
     "text": [
      "3\n",
      "===\n",
      "S: [1, 5, 8, 12, 15, 18]\n",
      "diff_0: 0\n",
      "res_0: 0\n",
      "diner_counts: 0\n",
      "diff_N: 2\n",
      "res_N: 1\n",
      "diner_counts: 1\n",
      " >>>>> \n",
      "idx: 1\n",
      "l: 2, r: 4\n",
      "diff: 1\n",
      "res: 1\n",
      "diner_counts: 2\n",
      "-------\n",
      "idx: 2\n",
      "l: 6, r: 7\n",
      "diff: 0\n",
      "res: 0\n",
      "diner_counts: 2\n",
      "-------\n",
      "idx: 3\n",
      "l: 9, r: 11\n",
      "diff: 1\n",
      "res: 1\n",
      "diner_counts: 3\n",
      "-------\n",
      "idx: 4\n",
      "l: 13, r: 14\n",
      "diff: 0\n",
      "res: 0\n",
      "diner_counts: 3\n",
      "-------\n",
      "idx: 5\n",
      "l: 16, r: 17\n",
      "diff: 0\n",
      "res: 0\n",
      "diner_counts: 3\n",
      "-------\n",
      "3\n",
      "CPU times: user 867 µs, sys: 542 µs, total: 1.41 ms\n",
      "Wall time: 996 µs\n"
     ]
    }
   ],
   "source": [
    "%%time\n",
    "\n",
    "N = 20\n",
    "K = 1\n",
    "M = 6\n",
    "S = [1, 5, 8, 12, 15, 18]\n",
    "print(getMaxAdditionalDinersCount(N, K, M, S))\n",
    "print(\"===\")\n",
    "print(fast_getMaxAdditionalDinersCount(N, K, M, S))"
   ]
  },
  {
   "cell_type": "code",
   "execution_count": 106,
   "id": "4180b4bf",
   "metadata": {},
   "outputs": [
    {
     "name": "stdout",
     "output_type": "stream",
     "text": [
      "241\n",
      "===\n",
      "S: [1, 5, 8, 12, 15, 18, 40, 400]\n",
      "diff_0: 0\n",
      "res_0: 0\n",
      "diner_counts: 0\n",
      "diff_N: 100\n",
      "res_N: 50\n",
      "diner_counts: 50\n",
      " >>>>> \n",
      "idx: 1\n",
      "l: 2, r: 4\n",
      "diff: 1\n",
      "res: 1\n",
      "diner_counts: 51\n",
      "-------\n",
      "idx: 2\n",
      "l: 6, r: 7\n",
      "diff: 0\n",
      "res: 0\n",
      "diner_counts: 51\n",
      "-------\n",
      "idx: 3\n",
      "l: 9, r: 11\n",
      "diff: 1\n",
      "res: 1\n",
      "diner_counts: 52\n",
      "-------\n",
      "idx: 4\n",
      "l: 13, r: 14\n",
      "diff: 0\n",
      "res: 0\n",
      "diner_counts: 52\n",
      "-------\n",
      "idx: 5\n",
      "l: 16, r: 17\n",
      "diff: 0\n",
      "res: 0\n",
      "diner_counts: 52\n",
      "-------\n",
      "idx: 6\n",
      "l: 19, r: 39\n",
      "diff: 19\n",
      "res: 10.0\n",
      "diner_counts: 62.0\n",
      "-------\n",
      "idx: 7\n",
      "l: 41, r: 399\n",
      "diff: 357\n",
      "res: 179.0\n",
      "diner_counts: 241.0\n",
      "-------\n",
      "241\n",
      "CPU times: user 2.81 ms, sys: 1.79 ms, total: 4.6 ms\n",
      "Wall time: 3.38 ms\n"
     ]
    }
   ],
   "source": [
    "%%time\n",
    "\n",
    "N = 500\n",
    "K = 1\n",
    "M = 8\n",
    "S = [1, 5, 8, 12, 15, 40, 18, 400]\n",
    "print(getMaxAdditionalDinersCount(N, K, M, S))\n",
    "print(\"===\")\n",
    "print(fast_getMaxAdditionalDinersCount(N, K, M, S))"
   ]
  },
  {
   "cell_type": "code",
   "execution_count": 52,
   "id": "1f1128a8",
   "metadata": {},
   "outputs": [
    {
     "data": {
      "text/plain": [
       "10"
      ]
     },
     "execution_count": 52,
     "metadata": {},
     "output_type": "execute_result"
    }
   ],
   "source": [
    "20//2"
   ]
  },
  {
   "cell_type": "code",
   "execution_count": null,
   "id": "a82a02ca",
   "metadata": {},
   "outputs": [],
   "source": [
    "# wrong array = [91, 100] et [92, 100]\n",
    "# good array = [90, 100] et [93, 100]"
   ]
  },
  {
   "cell_type": "code",
   "execution_count": 107,
   "id": "8856ca8d",
   "metadata": {},
   "outputs": [
    {
     "name": "stdout",
     "output_type": "stream",
     "text": [
      "123\n",
      "===\n",
      "S: [90, 100]\n",
      "diff_0: 89\n",
      "res_0: 22\n",
      "diner_counts: 22\n",
      "diff_N: 400\n",
      "res_N: 100\n",
      "diner_counts: 122\n",
      " >>>>> \n",
      "idx: 1\n",
      "l: 93, r: 97\n",
      "diff: 3\n",
      "res: 1\n",
      "diner_counts: 123\n",
      "-------\n",
      "123\n",
      "CPU times: user 1.37 ms, sys: 621 µs, total: 1.99 ms\n",
      "Wall time: 1.56 ms\n"
     ]
    }
   ],
   "source": [
    "%%time\n",
    "\n",
    "N = 500\n",
    "K = 3\n",
    "M = 2\n",
    "S = [90, 100]\n",
    "print(getMaxAdditionalDinersCount(N, K, M, S))\n",
    "print(\"===\")\n",
    "print(fast_getMaxAdditionalDinersCount(N, K, M, S))"
   ]
  },
  {
   "cell_type": "code",
   "execution_count": 108,
   "id": "719b11a6",
   "metadata": {},
   "outputs": [
    {
     "name": "stdout",
     "output_type": "stream",
     "text": [
      "123\n",
      "===\n",
      "S: [91, 100]\n",
      "diff_0: 90\n",
      "res_0: 22\n",
      "diner_counts: 22\n",
      "diff_N: 400\n",
      "res_N: 100\n",
      "diner_counts: 122\n",
      " >>>>> \n",
      "idx: 1\n",
      "l: 94, r: 97\n",
      "diff: 2\n",
      "res: 1\n",
      "diner_counts: 123\n",
      "-------\n",
      "123\n",
      "CPU times: user 1.13 ms, sys: 292 µs, total: 1.42 ms\n",
      "Wall time: 1.22 ms\n"
     ]
    }
   ],
   "source": [
    "%%time\n",
    "\n",
    "N = 500\n",
    "K = 3\n",
    "M = 2\n",
    "S = [91, 100]\n",
    "print(getMaxAdditionalDinersCount(N, K, M, S))\n",
    "print(\"===\")\n",
    "print(fast_getMaxAdditionalDinersCount(N, K, M, S))"
   ]
  },
  {
   "cell_type": "code",
   "execution_count": 109,
   "id": "c68e28f6",
   "metadata": {},
   "outputs": [
    {
     "name": "stdout",
     "output_type": "stream",
     "text": [
      "14\n",
      "===\n",
      "S: [9, 10, 45]\n",
      "diff_0: 8\n",
      "res_0: 1\n",
      "diner_counts: 1\n",
      "diff_N: 55\n",
      "res_N: 9\n",
      "diner_counts: 10\n",
      " >>>>> \n",
      "idx: 1\n",
      "l: 14, r: 5\n",
      "diff: -10\n",
      "res: 0\n",
      "diner_counts: 10\n",
      "-------\n",
      "idx: 2\n",
      "l: 15, r: 40\n",
      "diff: 24\n",
      "res: 4.0\n",
      "diner_counts: 14.0\n",
      "-------\n",
      "14\n",
      "CPU times: user 1.45 ms, sys: 1.3 ms, total: 2.75 ms\n",
      "Wall time: 1.81 ms\n"
     ]
    }
   ],
   "source": [
    "%%time\n",
    "\n",
    "N = 100\n",
    "K = 5\n",
    "M = 3\n",
    "S = [9, 10, 45]\n",
    "print(getMaxAdditionalDinersCount(N, K, M, S))\n",
    "print(\"===\")\n",
    "print(fast_getMaxAdditionalDinersCount(N, K, M, S))"
   ]
  },
  {
   "cell_type": "code",
   "execution_count": 110,
   "id": "4d423f6f",
   "metadata": {},
   "outputs": [
    {
     "name": "stdout",
     "output_type": "stream",
     "text": [
      "11\n",
      "===\n",
      "S: [9, 45, 80, 90, 100, 108, 300]\n",
      "diff_0: 8\n",
      "res_0: 0\n",
      "diner_counts: 0\n",
      "diff_N: 200\n",
      "res_N: 6\n",
      "diner_counts: 6\n",
      " >>>>> \n",
      "idx: 1\n",
      "l: 39, r: 15\n",
      "diff: -25\n",
      "res: 0\n",
      "diner_counts: 6\n",
      "-------\n",
      "idx: 2\n",
      "l: 75, r: 50\n",
      "diff: -26\n",
      "res: 0\n",
      "diner_counts: 6\n",
      "-------\n",
      "idx: 3\n",
      "l: 110, r: 60\n",
      "diff: -51\n",
      "res: 0\n",
      "diner_counts: 6\n",
      "-------\n",
      "idx: 4\n",
      "l: 120, r: 70\n",
      "diff: -51\n",
      "res: 0\n",
      "diner_counts: 6\n",
      "-------\n",
      "idx: 5\n",
      "l: 130, r: 78\n",
      "diff: -53\n",
      "res: 0\n",
      "diner_counts: 6\n",
      "-------\n",
      "idx: 6\n",
      "l: 138, r: 270\n",
      "diff: 131\n",
      "res: 5.0\n",
      "diner_counts: 11.0\n",
      "-------\n",
      "11\n"
     ]
    }
   ],
   "source": [
    "N = 500\n",
    "K = 30\n",
    "M = 7\n",
    "S = [9, 45, 80, 90, 100, 108, 300]\n",
    "print(getMaxAdditionalDinersCount(N, K, M, S))\n",
    "print(\"===\")\n",
    "print(fast_getMaxAdditionalDinersCount(N, K, M, S))"
   ]
  },
  {
   "cell_type": "code",
   "execution_count": null,
   "id": "2cd5433d",
   "metadata": {},
   "outputs": [],
   "source": []
  }
 ],
 "metadata": {
  "kernelspec": {
   "display_name": "Python 3",
   "language": "python",
   "name": "python3"
  },
  "language_info": {
   "codemirror_mode": {
    "name": "ipython",
    "version": 3
   },
   "file_extension": ".py",
   "mimetype": "text/x-python",
   "name": "python",
   "nbconvert_exporter": "python",
   "pygments_lexer": "ipython3",
   "version": "3.9.6"
  }
 },
 "nbformat": 4,
 "nbformat_minor": 5
}
