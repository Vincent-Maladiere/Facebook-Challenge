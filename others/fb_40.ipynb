{
 "cells": [
  {
   "cell_type": "markdown",
   "id": "1500a8c9",
   "metadata": {},
   "source": [
    "# Cracking the top 40 Facebook coding interview questions"
   ]
  },
  {
   "cell_type": "markdown",
   "id": "85616f64",
   "metadata": {},
   "source": [
    "https://www.educative.io/blog/cracking-top-facebook-coding-interview-questions"
   ]
  },
  {
   "cell_type": "markdown",
   "id": "489b6570",
   "metadata": {},
   "source": [
    "## Arrays: Merge overlapping intervals"
   ]
  },
  {
   "cell_type": "code",
   "execution_count": 20,
   "id": "280df027",
   "metadata": {},
   "outputs": [],
   "source": [
    "class Pair:\n",
    "    \n",
    "    def __init__(self, first, second):\n",
    "        self.first = first\n",
    "        self.second = second\n",
    "    \n",
    "    def __repr__(self):\n",
    "        return f\"({self.first}, {self.second})\"\n",
    "    \n",
    "\n",
    "def merge_intervals(v):\n",
    "    # write your code here\n",
    "    \n",
    "    result = []\n",
    "    \n",
    "    for new_range in v:\n",
    "        \n",
    "        new_pair = Pair(*new_range)\n",
    "        \n",
    "        if not result:\n",
    "            result.append(new_pair)\n",
    "            continue\n",
    "        \n",
    "        is_disjoint, is_within = True, False\n",
    "        first, second = None, None\n",
    "                \n",
    "        for idx, base_pair in enumerate(result):\n",
    "            \n",
    "            # left\n",
    "            if new_pair.first < base_pair.first and new_pair.second >= base_pair.first:\n",
    "                first = new_pair.first\n",
    "                is_disjoint = False\n",
    "                \n",
    "            # right\n",
    "            if new_pair.first <= base_pair.second and new_pair.second > base_pair.second:\n",
    "                second = new_pair.second\n",
    "                is_disjoint = False\n",
    "            \n",
    "            # within\n",
    "            if new_pair.first >= base_pair.first and new_pair.second <= base_pair.second:\n",
    "                is_within = True\n",
    "                break\n",
    "            \n",
    "            # disjoint\n",
    "            if not is_disjoint:\n",
    "                first = first or base_pair.first\n",
    "                second = second or base_pair.second\n",
    "                new_pair = Pair(first, second)\n",
    "                result.pop(idx)\n",
    "                break\n",
    "        \n",
    "        if not is_within:\n",
    "            result.append(new_pair)\n",
    "            \n",
    "    return result"
   ]
  },
  {
   "cell_type": "code",
   "execution_count": 24,
   "id": "ca1bd380",
   "metadata": {},
   "outputs": [
    {
     "name": "stdout",
     "output_type": "stream",
     "text": [
      "[(1, 8)]\n",
      "[(10, 15)]\n",
      "[(1, 5), (10, 15)]\n",
      "CPU times: user 386 µs, sys: 136 µs, total: 522 µs\n",
      "Wall time: 468 µs\n"
     ]
    }
   ],
   "source": [
    "%%time\n",
    "\n",
    "# [[1, 5], [3, 7], [4, 6], [6, 8]] -> [[1, 8]]\n",
    "# [(10, 12), (12, 15)] -> [[10, 5]]\n",
    "\n",
    "arr_1 = [[1, 5], [3, 7], [4, 6], [6, 8]]\n",
    "print(merge_intervals(arr_1))\n",
    "\n",
    "arr_2 = [(10, 12), (12, 15)]\n",
    "print(merge_intervals(arr_2))\n",
    "\n",
    "arr_3 = [[2, 5], [1, 4], [10, 15]]\n",
    "print(merge_intervals(arr_3))"
   ]
  },
  {
   "cell_type": "markdown",
   "id": "85289ef7",
   "metadata": {},
   "source": [
    "# Trees: Convert binary tree to doubly linked list"
   ]
  },
  {
   "cell_type": "code",
   "execution_count": 92,
   "id": "dc717429",
   "metadata": {},
   "outputs": [],
   "source": [
    "from dataclasses import dataclass\n",
    "\n",
    "\n",
    "class Node:\n",
    "    def __init__(self, val, l=None, r=None):\n",
    "        self.l = l\n",
    "        self.r = r\n",
    "        self.v = val\n",
    "    \n",
    "    def __repr__(self):\n",
    "        return str(self.v)\n",
    "\n",
    "        \n",
    "class Tree:\n",
    "    \n",
    "    def __init__(self):\n",
    "        self.root = None\n",
    "\n",
    "    def get_root(self):\n",
    "        return self.root\n",
    "\n",
    "    def add(self, val):\n",
    "        if self.root is None:\n",
    "            self.root = Node(val)\n",
    "        else:\n",
    "            self._add(val, self.root)\n",
    "\n",
    "    def _add(self, val, node):\n",
    "        if val < node.v:\n",
    "            if node.l is not None:\n",
    "                self._add(val, node.l)\n",
    "            else:\n",
    "                node.l = Node(val)\n",
    "        else:\n",
    "            if node.r is not None:\n",
    "                self._add(val, node.r)\n",
    "            else:\n",
    "                node.r = Node(val)\n",
    "\n",
    "    def find(self, val):\n",
    "        if self.root is not None:\n",
    "            return self._find(val, self.root)\n",
    "        else:\n",
    "            return None\n",
    "\n",
    "    def _find(self, val, node):\n",
    "        if val == node.v:\n",
    "            return node\n",
    "        elif (val < node.v and node.l is not None):\n",
    "            return self._find(val, node.l)\n",
    "        elif (val > node.v and node.r is not None):\n",
    "            return self._find(val, node.r)\n",
    "\n",
    "    def deleteTree(self):\n",
    "        # garbage collector will do this for us. \n",
    "        self.root = None\n",
    "\n",
    "    def printTree(self):\n",
    "        if self.root is not None:\n",
    "            self._printTree(self.root)\n",
    "\n",
    "    def _printTree(self, node):\n",
    "        if node is not None:\n",
    "            self._printTree(node.l)\n",
    "            print(str(node.v) + ' ')\n",
    "            self._printTree(node.r)    \n",
    "    \n",
    "    def to_list(self):\n",
    "        \n",
    "        self.linked_list = []\n",
    "        if self.root is not None:\n",
    "            self._to_list(self.root)\n",
    "                \n",
    "        for idx in range(1, len(self.linked_list)):\n",
    "            left_n = self.linked_list[idx-1]\n",
    "            right_n = self.linked_list[idx]\n",
    "            left_n.r = right_n\n",
    "            right_n.l = left_n\n",
    "            \n",
    "        return self.linked_list[0]\n",
    "        \n",
    "    def _to_list(self, node):\n",
    "        if node is not None:\n",
    "            self._to_list(node.l)\n",
    "            self.linked_list.append(node)\n",
    "            self._to_list(node.r)\n",
    "    \n",
    "    def pretty_print(self):\n",
    "        root = self.get_root()\n",
    "        if root is not None:\n",
    "            self._pretty_print([root])\n",
    "        \n",
    "    def _pretty_print(self, nodes):\n",
    "        print(nodes)\n",
    "        level = []\n",
    "        for node in nodes:\n",
    "            if node is not None:\n",
    "                level += [node.l, node.r]\n",
    "        if not all([el is None for el in level]):\n",
    "            self._pretty_print(level)\n",
    "            "
   ]
  },
  {
   "cell_type": "code",
   "execution_count": 82,
   "id": "38794946",
   "metadata": {},
   "outputs": [
    {
     "name": "stdout",
     "output_type": "stream",
     "text": [
      "25 \n",
      "30 \n",
      "50 \n",
      "60 \n",
      "75 \n",
      "100 \n",
      "125 \n",
      "200 \n",
      "350 \n"
     ]
    }
   ],
   "source": [
    "values = [100, 50, 200, 25, 75, 125, 350, 30, 60]\n",
    "tree = Tree()\n",
    "for v in values:\n",
    "    tree.add(v)\n",
    "\n",
    "tree.printTree()"
   ]
  },
  {
   "cell_type": "code",
   "execution_count": 83,
   "id": "d9ee9b72",
   "metadata": {},
   "outputs": [],
   "source": [
    "head = tree.to_list()"
   ]
  },
  {
   "cell_type": "code",
   "execution_count": 84,
   "id": "ae4881ac",
   "metadata": {},
   "outputs": [
    {
     "data": {
      "text/plain": [
       "60"
      ]
     },
     "execution_count": 84,
     "metadata": {},
     "output_type": "execute_result"
    }
   ],
   "source": [
    "head.r.r.r"
   ]
  },
  {
   "cell_type": "markdown",
   "id": "dc5650d3",
   "metadata": {},
   "source": [
    "# Trees: Level order traversal of binary tree"
   ]
  },
  {
   "cell_type": "code",
   "execution_count": 93,
   "id": "7748ba14",
   "metadata": {},
   "outputs": [
    {
     "name": "stdout",
     "output_type": "stream",
     "text": [
      "[100]\n",
      "[50, 200]\n",
      "[25, 75, None, 350]\n"
     ]
    }
   ],
   "source": [
    "values = [100, 50, 200, 25, 75, 350]\n",
    "tree = Tree()\n",
    "for v in values:\n",
    "    tree.add(v)\n",
    "\n",
    "tree.pretty_print()"
   ]
  },
  {
   "cell_type": "markdown",
   "id": "ae09567a",
   "metadata": {},
   "source": [
    "# Strings: Reverse words in a sentence"
   ]
  },
  {
   "cell_type": "code",
   "execution_count": 94,
   "id": "6337fdc2",
   "metadata": {},
   "outputs": [
    {
     "data": {
      "text/plain": [
       "'olleH'"
      ]
     },
     "execution_count": 94,
     "metadata": {},
     "output_type": "execute_result"
    }
   ],
   "source": [
    "sentence = list(\"Hello\")\n",
    "\"\".join(reversed(sentence))"
   ]
  },
  {
   "cell_type": "code",
   "execution_count": 95,
   "id": "72a0b555",
   "metadata": {},
   "outputs": [
    {
     "name": "stdout",
     "output_type": "stream",
     "text": [
      "[8]\n",
      "[None, 15]\n",
      "[None, 25]\n"
     ]
    }
   ],
   "source": [
    "values = [8, 15, 25]\n",
    "tree = Tree()\n",
    "for v in values:\n",
    "    tree.add(v)\n",
    "tree.pretty_print()"
   ]
  },
  {
   "cell_type": "code",
   "execution_count": 96,
   "id": "f027b13d",
   "metadata": {},
   "outputs": [
    {
     "name": "stdout",
     "output_type": "stream",
     "text": [
      "[25]\n",
      "[15, None]\n",
      "[8, None]\n"
     ]
    }
   ],
   "source": [
    "values = reversed([8, 15, 25])\n",
    "tree = Tree()\n",
    "for v in values:\n",
    "    tree.add(v)\n",
    "tree.pretty_print()"
   ]
  },
  {
   "cell_type": "code",
   "execution_count": 97,
   "id": "a49e67e4",
   "metadata": {},
   "outputs": [
    {
     "name": "stdout",
     "output_type": "stream",
     "text": [
      "[15]\n",
      "[8, 25]\n"
     ]
    }
   ],
   "source": [
    "values = reversed([8, 25, 15])\n",
    "tree = Tree()\n",
    "for v in values:\n",
    "    tree.add(v)\n",
    "tree.pretty_print()"
   ]
  },
  {
   "cell_type": "code",
   "execution_count": null,
   "id": "b4622734",
   "metadata": {},
   "outputs": [],
   "source": []
  }
 ],
 "metadata": {
  "kernelspec": {
   "display_name": "Python 3",
   "language": "python",
   "name": "python3"
  },
  "language_info": {
   "codemirror_mode": {
    "name": "ipython",
    "version": 3
   },
   "file_extension": ".py",
   "mimetype": "text/x-python",
   "name": "python",
   "nbconvert_exporter": "python",
   "pygments_lexer": "ipython3",
   "version": "3.9.6"
  }
 },
 "nbformat": 4,
 "nbformat_minor": 5
}
